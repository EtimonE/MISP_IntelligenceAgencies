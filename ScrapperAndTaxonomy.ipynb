{
 "cells": [
  {
   "cell_type": "code",
   "execution_count": null,
   "id": "47a2abbf",
   "metadata": {},
   "outputs": [],
   "source": [
    "import requests\n",
    "from bs4 import BeautifulSoup\n",
    "import json\n",
    "\n",
    "# Send a GET request to the Wikipedia page\n",
    "url = 'https://en.wikipedia.org/wiki/List_of_intelligence_agencies'\n",
    "response = requests.get(url)\n",
    "\n",
    "# Parse the HTML content using BeautifulSoup\n",
    "soup = BeautifulSoup(response.content, 'html.parser')\n",
    "\n",
    "# Create a dictionary to store the intelligence agencies by country\n",
    "agencies_by_country = {}\n",
    "\n",
    "# Iterate over the H2 headers containing the country names\n",
    "for h2 in soup.find_all('h2'):\n",
    "    span = h2.find('span', {'class': 'mw-headline'})\n",
    "    if span:\n",
    "        country = span.text.strip()\n",
    "        if country == \"See also\":\n",
    "            break\n",
    "        agencies = []\n",
    "        for next_element in h2.next_siblings:\n",
    "            if next_element.name == 'h2':\n",
    "                break\n",
    "            if next_element.name == 'h3':\n",
    "                continue\n",
    "            if next_element.name == 'ul':\n",
    "                for li in next_element.find_all('li'):\n",
    "                    agency = li.find('a')\n",
    "                    if agency:\n",
    "                        agencies.append({'value': agency.text.strip()})\n",
    "                    else:\n",
    "                        agencies.append({'value': li.text.strip()})\n",
    "        agencies_by_country[country] = {'description': f\"Intelligence agencies in {country}\", 'Galaxy': {'Threat-Actor': {'threat-actor': agencies}}, 'meta': {'source': url}}\n",
    "\n",
    "# Create the MISP taxonomy\n",
    "taxonomy = {\n",
    "    \"name\": \"Intelligence Agencies\",\n",
    "    \"description\": \"Galaxy of intelligence agencies by country\",\n",
    "    \"type\": \"taxonomy\",\n",
    "    \"version\": \"1.1\",\n",
    "    \"authors\": [\"Timon ECKERT - Nina KERN\"],\n",
    "    \"values\": []\n",
    "}\n",
    "\n",
    "# Iterate over the countries and agencies to populate the taxonomy\n",
    "for country, agencies in agencies_by_country.items():\n",
    "    taxonomy_value = {\n",
    "        \"value\": country,\n",
    "        \"description\": agencies['description'],\n",
    "        \"meta\": agencies['meta'],\n",
    "        \"Galaxy\": agencies['Galaxy']\n",
    "    }\n",
    "    taxonomy['values'].append(taxonomy_value)\n",
    "\n",
    "# Write the taxonomy to a JSON file\n",
    "with open('intelligence_agencies.json', 'w', encoding='utf-8') as f:\n",
    "    json.dump(taxonomy, f, ensure_ascii=False, indent=4)\n",
    "\n",
    "print('Taxonomy created successfully!')\n"
   ]
  }
 ],
 "metadata": {
  "kernelspec": {
   "display_name": "Python 3.9.12 ('base')",
   "language": "python",
   "name": "python3"
  },
  "language_info": {
   "codemirror_mode": {
    "name": "ipython",
    "version": 3
   },
   "file_extension": ".py",
   "mimetype": "text/x-python",
   "name": "python",
   "nbconvert_exporter": "python",
   "pygments_lexer": "ipython3",
   "version": "3.9.12"
  },
  "vscode": {
   "interpreter": {
    "hash": "912ab3c4b6901e8669049c94dcd92ef871d2af685164db1d4c63a31f16a83ce4"
   }
  }
 },
 "nbformat": 4,
 "nbformat_minor": 5
}
